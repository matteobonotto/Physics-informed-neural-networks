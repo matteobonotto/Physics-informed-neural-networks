{
 "cells": [
  {
   "cell_type": "markdown",
   "id": "19d02cb0-746c-463d-87c7-388a7a1b4626",
   "metadata": {},
   "source": [
    "## <b>Solving axisymmetric magnetostatic problem via Phycisc Informed Neural Networks (PINNs)<b>"
   ]
  }
 ],
 "metadata": {
  "kernelspec": {
   "display_name": "Python 3 (ipykernel)",
   "language": "python",
   "name": "python3"
  },
  "language_info": {
   "codemirror_mode": {
    "name": "ipython",
    "version": 3
   },
   "file_extension": ".py",
   "mimetype": "text/x-python",
   "name": "python",
   "nbconvert_exporter": "python",
   "pygments_lexer": "ipython3",
   "version": "3.9.12"
  }
 },
 "nbformat": 4,
 "nbformat_minor": 5
}
